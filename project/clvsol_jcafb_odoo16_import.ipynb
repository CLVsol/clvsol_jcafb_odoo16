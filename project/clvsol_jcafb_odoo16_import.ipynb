{
 "cells": [
  {
   "cell_type": "markdown",
   "id": "6c6334b5-3564-46ce-8191-6337fc21a7b3",
   "metadata": {},
   "source": [
    "# Importação dos dados do Banco de Dados \"clvsol_jcafb_odoo16\""
   ]
  },
  {
   "cell_type": "markdown",
   "id": "585952b2-0121-43d4-97fa-e768363f94be",
   "metadata": {},
   "source": [
    "## Leitura das Credenciais"
   ]
  },
  {
   "cell_type": "code",
   "execution_count": 1,
   "id": "a628c8b4-2643-4220-b1f3-cf4fac7ab548",
   "metadata": {},
   "outputs": [],
   "source": [
    "import pandas as pd\n",
    "\n",
    "hosts = pd.read_csv('data/host.csv', delimiter=';', index_col='name')\n",
    "def creds(index, col_name):\n",
    "    return hosts.at[index, col_name]\n",
    "\n",
    "# print(hosts)"
   ]
  },
  {
   "cell_type": "markdown",
   "id": "d0cf6d1e-5157-4c6b-9d5f-f4b502eb66df",
   "metadata": {},
   "source": [
    "## Parâmetros globais¶"
   ]
  },
  {
   "cell_type": "code",
   "execution_count": 2,
   "id": "47963960-c07b-4191-ad8b-8cc81f091c40",
   "metadata": {},
   "outputs": [],
   "source": [
    "import logging\n",
    "import sqlite3\n",
    "\n",
    "logging.basicConfig(level=logging.DEBUG)\n",
    "_logger = logging.getLogger(__name__)\n"
   ]
  },
  {
   "cell_type": "code",
   "execution_count": 3,
   "id": "4164df35-ed55-47f1-98cb-49291c3afc81",
   "metadata": {},
   "outputs": [],
   "source": [
    "from xmlrpc import client\n",
    "\n",
    "# host_name = 'tkl-odoo15-jcafb25-vm'\n",
    "host_name = 'tkl-odoo16-vm-18'\n",
    "\n",
    "server_url = creds(host_name, 'server')\n",
    "db_name = creds(host_name, 'dbname')\n",
    "username = creds(host_name, 'user')\n",
    "password = creds(host_name, 'user_pw')\n",
    "# password = creds(host_name, 'user_apikey')\n"
   ]
  },
  {
   "cell_type": "markdown",
   "id": "317c509c-b4b1-4294-9c55-b412083c9f32",
   "metadata": {},
   "source": [
    "## Importação dos dados de \"res.country\""
   ]
  },
  {
   "cell_type": "code",
   "execution_count": 4,
   "id": "b64dfd5c-feb0-445c-8fb5-3af24ba5b917",
   "metadata": {},
   "outputs": [],
   "source": [
    "res_country_fields = ['id', 'name', 'code']\n",
    "\n",
    "common = client.ServerProxy('%s/xmlrpc/2/common' % server_url)\n",
    "user_id = common.authenticate(db_name, username, password, {})\n",
    "models = client.ServerProxy('%s/xmlrpc/2/object' % server_url)\n",
    "\n",
    "if user_id:\n",
    "\n",
    "    search_domain = []\n",
    "    res_country_objects = models.execute_kw(db_name, user_id, password,\n",
    "                                            'res.country', 'search_read',\n",
    "                                            [search_domain, res_country_fields],\n",
    "                                            {}\n",
    "                                           )\n",
    "    res_country = pd.DataFrame(res_country_objects)\n",
    "\n",
    "    # print(res_country)\n",
    "\n",
    "    conn = sqlite3.connect('data/clvsol_jcafb_odoo16.db')\n",
    "\n",
    "    cur = conn.cursor()\n",
    "    cur.execute('DELETE FROM res_country')\n",
    "    conn.commit()\n",
    "\n",
    "    # res_country.to_sql('res_country', conn, if_exists='replace', index=False)\n",
    "    res_country.to_sql('res_country', conn, if_exists='append', index=False)\n",
    "\n",
    "    conn.close()\n"
   ]
  },
  {
   "cell_type": "markdown",
   "id": "a754082c-f8a0-4f62-bd59-3e5c8b7492a3",
   "metadata": {},
   "source": [
    "## Importação dos dados de \"res.partner\""
   ]
  },
  {
   "cell_type": "code",
   "execution_count": 5,
   "id": "277a9779-e6c3-4082-9d21-c22001827c3e",
   "metadata": {},
   "outputs": [],
   "source": [
    "res_partner_fields = ['id', 'name', 'type',\n",
    "                      'street_name','street','street_number','street_number2','street2', 'district', 'active'\n",
    "                     ]\n",
    "\n",
    "common = client.ServerProxy('%s/xmlrpc/2/common' % server_url)\n",
    "user_id = common.authenticate(db_name, username, password, {})\n",
    "models = client.ServerProxy('%s/xmlrpc/2/object' % server_url)\n",
    "\n",
    "if user_id:\n",
    "\n",
    "    search_domain = []\n",
    "    res_partner_objects = models.execute_kw(db_name, user_id, password,\n",
    "                                            'res.partner', 'search_read',\n",
    "                                            [search_domain, res_partner_fields],\n",
    "                                            {}\n",
    "                                           )\n",
    "    res_partner = pd.DataFrame(res_partner_objects)\n",
    "\n",
    "    for i, row in res_partner.iterrows():\n",
    "\n",
    "        if row['street_name'] is False:\n",
    "            res_partner['street_name'].values[i] = None\n",
    "\n",
    "        if row['street'] is False:\n",
    "            res_partner['street'].values[i] = None\n",
    "\n",
    "        if row['street_number'] is False:\n",
    "            res_partner['street_number'].values[i] = None\n",
    "\n",
    "        if row['street_number2'] is False:\n",
    "            res_partner['street_number2'].values[i] = None\n",
    "\n",
    "        if row['street2'] is False:\n",
    "            res_partner['street2'].values[i] = None\n",
    "\n",
    "        if row['district'] is False:\n",
    "            res_partner['district'].values[i] = None\n",
    "\n",
    "    # print(res_partner)\n",
    "\n",
    "    conn = sqlite3.connect('data/clvsol_jcafb_odoo16.db')\n",
    "\n",
    "    cur = conn.cursor()\n",
    "    cur.execute('DELETE FROM res_partner')\n",
    "    conn.commit()\n",
    "\n",
    "    # res_partner.to_sql('res_partner', conn, if_exists='replace', index=False)\n",
    "    res_partner.to_sql('res_partner', conn, if_exists='append', index=False)\n",
    "\n",
    "    conn.close()\n"
   ]
  },
  {
   "cell_type": "code",
   "execution_count": null,
   "id": "14b2fff5-621b-4114-94f9-4eb6970122a6",
   "metadata": {},
   "outputs": [],
   "source": []
  }
 ],
 "metadata": {
  "kernelspec": {
   "display_name": "Python 3 (ipykernel)",
   "language": "python",
   "name": "python3"
  },
  "language_info": {
   "codemirror_mode": {
    "name": "ipython",
    "version": 3
   },
   "file_extension": ".py",
   "mimetype": "text/x-python",
   "name": "python",
   "nbconvert_exporter": "python",
   "pygments_lexer": "ipython3",
   "version": "3.12.2"
  }
 },
 "nbformat": 4,
 "nbformat_minor": 5
}
