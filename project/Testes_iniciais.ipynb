{
 "cells": [
  {
   "cell_type": "markdown",
   "id": "8b4d2452-75ea-44dd-a008-5c7335b08d10",
   "metadata": {},
   "source": [
    "# Testes Iniciais"
   ]
  },
  {
   "cell_type": "markdown",
   "id": "a006ccdc-b340-4ee6-9d68-abe995d9bffe",
   "metadata": {},
   "source": [
    "## Leitura das Credenciais"
   ]
  },
  {
   "cell_type": "code",
   "execution_count": 1,
   "id": "0bb38ac1-7726-4d1b-ba17-d5cc3561a395",
   "metadata": {},
   "outputs": [],
   "source": [
    "import pandas as pd\n",
    "\n",
    "hosts = pd.read_csv('data/host.csv', delimiter=';', index_col='name')\n",
    "def creds(index, col_name):\n",
    "    return hosts.at[index, col_name]\n",
    "\n",
    "# creds = lambda index, col_name : hosts.at[index, col_name]\n",
    "\n",
    "# print(hosts)"
   ]
  },
  {
   "cell_type": "markdown",
   "id": "937c7253-2bff-463e-80a8-fccac9377da7",
   "metadata": {},
   "source": [
    "## Parâmetros globais"
   ]
  },
  {
   "cell_type": "code",
   "execution_count": 2,
   "id": "205cc15a-1c82-41ef-b6e1-de152ae3f587",
   "metadata": {},
   "outputs": [],
   "source": [
    "import logging\n",
    "\n",
    "logging.basicConfig(level=logging.DEBUG)\n",
    "_logger = logging.getLogger(__name__)\n"
   ]
  },
  {
   "cell_type": "code",
   "execution_count": 3,
   "id": "d712969f-86fc-48be-a0e7-c409a4f8fbc8",
   "metadata": {},
   "outputs": [],
   "source": [
    "import ssl\n",
    "\n",
    "ssl._create_default_https_context = ssl._create_unverified_context\n",
    "ctx = ssl.create_default_context()\n",
    "ctx.check_hostname = False\n",
    "ctx.verify_mode = ssl.CERT_NONE\n"
   ]
  },
  {
   "cell_type": "code",
   "execution_count": 4,
   "id": "1fd470f1-6af0-451d-b637-7bb13870bf04",
   "metadata": {},
   "outputs": [
    {
     "name": "stderr",
     "output_type": "stream",
     "text": [
      "INFO:__main__:host_name: \"tkl-odoo16-vm-18\"\n"
     ]
    }
   ],
   "source": [
    "host_name = 'tkl-odoo16-vm-18'\n",
    "\n",
    "server = creds(host_name, 'server')\n",
    "master_pw = creds(host_name, 'master_pw')\n",
    "dbname = creds(host_name, 'dbname')\n",
    "user = creds(host_name, 'user')\n",
    "user_pw = creds(host_name, 'user_pw')\n",
    "user_apikey = creds(host_name, 'user_apikey')\n",
    "\n",
    "_logger.info('host_name: \"{0}\"'.format(host_name))\n",
    "\n",
    "# print(server_url)\n"
   ]
  },
  {
   "cell_type": "markdown",
   "id": "8e3622bc-b5b6-4f1b-98d6-d6ca7a2d49ac",
   "metadata": {},
   "source": [
    "## Teste de conexão à Base de dados"
   ]
  },
  {
   "cell_type": "code",
   "execution_count": 5,
   "id": "e9918e0d-4915-44f1-a069-f5cc067b0357",
   "metadata": {},
   "outputs": [
    {
     "name": "stderr",
     "output_type": "stream",
     "text": [
      "INFO:__main__:sock_common.version(): \"{'server_version': '16.0', 'server_version_info': [16, 0, 0, 'final', 0, ''], 'server_serie': '16.0', 'protocol_version': 1}\"\n",
      "INFO:__main__:Databases found: []\n"
     ]
    }
   ],
   "source": [
    "import erppeek\n",
    "import xmlrpc.client as xmlrpclib\n",
    "\n",
    "url = server\n",
    "sock_common = xmlrpclib.ServerProxy('{}/xmlrpc/2/common'.format(url))\n",
    "_logger.info('sock_common.version(): \"{0}\"'.format(sock_common.version()))\n",
    "\n",
    "client = erppeek.Client(server=server)\n",
    "_logger.info('Databases found: {0}'.format(client.db.list()))\n"
   ]
  },
  {
   "cell_type": "markdown",
   "id": "b1f76cea-6abe-4e7e-a5f7-1401c1bb2836",
   "metadata": {},
   "source": [
    "## Teste de 'clvsol_odoo_client2.host.host_login'"
   ]
  },
  {
   "cell_type": "code",
   "execution_count": 6,
   "id": "c06ee0c7-9f8f-44d0-b2c8-11abf66c8b71",
   "metadata": {},
   "outputs": [
    {
     "name": "stderr",
     "output_type": "stream",
     "text": [
      "INFO:clvsol_odoo_client2.host:--> host_login https://192.168.25.212 clvhealth_jcafb_16\n",
      "INFO:clvsol_odoo_client2.host:--> except Fault\n",
      "INFO:clvsol_odoo_client2.host:--> [22] Database does not exist.  \n"
     ]
    },
    {
     "data": {
      "text/plain": [
       "(False, False, '[22] Database does not exist.')"
      ]
     },
     "execution_count": 6,
     "metadata": {},
     "output_type": "execute_result"
    }
   ],
   "source": [
    "from clvsol_odoo_client2 import host\n",
    "\n",
    "host.host_login(server, dbname, user, user_pw)\n"
   ]
  },
  {
   "cell_type": "code",
   "execution_count": 7,
   "id": "b963cd9f-393d-4ede-8358-da89b663ddc2",
   "metadata": {},
   "outputs": [
    {
     "name": "stderr",
     "output_type": "stream",
     "text": [
      "INFO:clvsol_odoo_client2.host:--> host_login https://192.168.25.212x clvhealth_jcafb_16\n",
      "INFO:clvsol_odoo_client2.host:--> [11] Server is not responding.  \n"
     ]
    },
    {
     "data": {
      "text/plain": [
       "(False, False, '[11] Server is not responding.')"
      ]
     },
     "execution_count": 7,
     "metadata": {},
     "output_type": "execute_result"
    }
   ],
   "source": [
    "host.host_login(server + 'x', dbname, user, user_pw)\n"
   ]
  },
  {
   "cell_type": "code",
   "execution_count": 8,
   "id": "1f5fc0b3-6771-416d-9380-330733e3f464",
   "metadata": {},
   "outputs": [
    {
     "name": "stderr",
     "output_type": "stream",
     "text": [
      "INFO:clvsol_odoo_client2.host:--> host_login https://192.168.25.212 clvhealth_jcafb_16x\n",
      "INFO:clvsol_odoo_client2.host:--> except Fault\n",
      "INFO:clvsol_odoo_client2.host:--> [22] Database does not exist.  \n"
     ]
    },
    {
     "data": {
      "text/plain": [
       "(False, False, '[22] Database does not exist.')"
      ]
     },
     "execution_count": 8,
     "metadata": {},
     "output_type": "execute_result"
    }
   ],
   "source": [
    "host.host_login(server, dbname + 'x', user, user_pw)"
   ]
  },
  {
   "cell_type": "code",
   "execution_count": 9,
   "id": "fd492492-f8da-4dd0-8684-4a0459dab6dd",
   "metadata": {},
   "outputs": [
    {
     "name": "stderr",
     "output_type": "stream",
     "text": [
      "INFO:clvsol_odoo_client2.host:--> host_login https://192.168.25.212 clvhealth_jcafb_16\n",
      "INFO:clvsol_odoo_client2.host:--> except Fault\n",
      "INFO:clvsol_odoo_client2.host:--> [22] Database does not exist.  \n"
     ]
    },
    {
     "data": {
      "text/plain": [
       "(False, False, '[22] Database does not exist.')"
      ]
     },
     "execution_count": 9,
     "metadata": {},
     "output_type": "execute_result"
    }
   ],
   "source": [
    "host.host_login(server, dbname, user + 'x', user_pw)\n"
   ]
  },
  {
   "cell_type": "code",
   "execution_count": 10,
   "id": "b589cafe-267b-4d0e-8c4d-d5d86bd387c6",
   "metadata": {},
   "outputs": [
    {
     "name": "stderr",
     "output_type": "stream",
     "text": [
      "INFO:clvsol_odoo_client2.host:--> host_login https://192.168.25.212 clvhealth_jcafb_16\n",
      "INFO:clvsol_odoo_client2.host:--> except Fault\n",
      "INFO:clvsol_odoo_client2.host:--> [22] Database does not exist.  \n"
     ]
    },
    {
     "data": {
      "text/plain": [
       "(False, False, '[22] Database does not exist.')"
      ]
     },
     "execution_count": 10,
     "metadata": {},
     "output_type": "execute_result"
    }
   ],
   "source": [
    "host.host_login(server, dbname, user, user_pw + 'x')"
   ]
  },
  {
   "cell_type": "markdown",
   "id": "79f7e5e0-19ed-4ea4-a8ce-9d4652f6f43e",
   "metadata": {},
   "source": [
    "## Teste de 'CLVhealthJCAFB'"
   ]
  },
  {
   "cell_type": "code",
   "execution_count": 11,
   "id": "c189d854-dfaa-462a-a2f9-2143510027cf",
   "metadata": {},
   "outputs": [
    {
     "name": "stderr",
     "output_type": "stream",
     "text": [
      "INFO:clvsol_odoo_client2.db:--> sock_common.version(): \"{'server_version': '16.0', 'server_version_info': [16, 0, 0, 'final', 0, ''], 'server_serie': '16.0', 'protocol_version': 1}\"\n",
      "INFO:clvsol_odoo_client2.db:--> Databases found: \"[]\"\n",
      "INFO:clvsol_odoo_client2.db:--> Creating database \"clvhealth_jcafb_16\"...\n"
     ]
    },
    {
     "ename": "ProtocolError",
     "evalue": "<ProtocolError for 192.168.25.212/xmlrpc/db: 403 Forbidden>",
     "output_type": "error",
     "traceback": [
      "\u001b[0;31m---------------------------------------------------------------------------\u001b[0m",
      "\u001b[0;31mProtocolError\u001b[0m                             Traceback (most recent call last)",
      "Cell \u001b[0;32mIn[11], line 14\u001b[0m\n\u001b[1;32m      3\u001b[0m clvhealth \u001b[38;5;241m=\u001b[39m CLVhealthJCAFB(server\u001b[38;5;241m=\u001b[39mserver,\n\u001b[1;32m      4\u001b[0m                            admin_user_pw\u001b[38;5;241m=\u001b[39muser_pw,\n\u001b[1;32m      5\u001b[0m                            super_user_pw\u001b[38;5;241m=\u001b[39mmaster_pw,\n\u001b[1;32m      6\u001b[0m                            dbname\u001b[38;5;241m=\u001b[39mdbname\n\u001b[1;32m      7\u001b[0m                           )\n\u001b[1;32m      9\u001b[0m \u001b[38;5;66;03m# _logger.info('clvhealth_jcafb.server: {0}'.format(clvhealth.server))\u001b[39;00m\n\u001b[1;32m     10\u001b[0m \u001b[38;5;66;03m# _logger.info('clvhealth_jcafb.dbname: {0}'.format(clvhealth.dbname))\u001b[39;00m\n\u001b[1;32m     11\u001b[0m \u001b[38;5;66;03m# _logger.info('clvhealth_jcafb.db.server: {0}'.format(clvhealth.db.server))\u001b[39;00m\n\u001b[1;32m     12\u001b[0m \u001b[38;5;66;03m# _logger.info('clvhealth_jcafb.db.dbname: {0}'.format(clvhealth.db.dbname))\u001b[39;00m\n\u001b[0;32m---> 14\u001b[0m clvhealth\u001b[38;5;241m.\u001b[39minstall()\n",
      "File \u001b[0;32m/opt/clvsol/clvsol_jcafb_odoo16/project/clvhealth_jcafb.py:86\u001b[0m, in \u001b[0;36mCLVhealthJCAFB.install\u001b[0;34m(self)\u001b[0m\n\u001b[1;32m     84\u001b[0m \u001b[38;5;28;01mdef\u001b[39;00m \u001b[38;5;21minstall\u001b[39m(\u001b[38;5;28mself\u001b[39m):\n\u001b[0;32m---> 86\u001b[0m     newDB \u001b[38;5;241m=\u001b[39m \u001b[38;5;28mself\u001b[39m\u001b[38;5;241m.\u001b[39mdb\u001b[38;5;241m.\u001b[39mcreate()\n\u001b[1;32m     88\u001b[0m     \u001b[38;5;28;01mif\u001b[39;00m newDB:\n\u001b[1;32m     89\u001b[0m         \u001b[38;5;28;01mpass\u001b[39;00m\n",
      "File \u001b[0;32m/opt/clvsol/clvsol_jcafb_odoo16/project/clvsol_odoo_client2/db.py:54\u001b[0m, in \u001b[0;36mDB.create\u001b[0;34m(self)\u001b[0m\n\u001b[1;32m     50\u001b[0m \u001b[38;5;28;01mif\u001b[39;00m \u001b[38;5;28mself\u001b[39m\u001b[38;5;241m.\u001b[39mdbname \u001b[38;5;129;01mnot\u001b[39;00m \u001b[38;5;129;01min\u001b[39;00m client\u001b[38;5;241m.\u001b[39mdb\u001b[38;5;241m.\u001b[39mlist():\n\u001b[1;32m     52\u001b[0m     _logger\u001b[38;5;241m.\u001b[39minfo(\u001b[38;5;124mu\u001b[39m\u001b[38;5;124m'\u001b[39m\u001b[38;5;124m--> Creating database \u001b[39m\u001b[38;5;124m\"\u001b[39m\u001b[38;5;132;01m{0}\u001b[39;00m\u001b[38;5;124m\"\u001b[39m\u001b[38;5;124m...\u001b[39m\u001b[38;5;124m'\u001b[39m\u001b[38;5;241m.\u001b[39mformat(\u001b[38;5;28mself\u001b[39m\u001b[38;5;241m.\u001b[39mdbname))\n\u001b[0;32m---> 54\u001b[0m     client\u001b[38;5;241m.\u001b[39mcreate_database(\n\u001b[1;32m     55\u001b[0m         passwd\u001b[38;5;241m=\u001b[39m\u001b[38;5;28mself\u001b[39m\u001b[38;5;241m.\u001b[39msuper_user_pw,\n\u001b[1;32m     56\u001b[0m         database\u001b[38;5;241m=\u001b[39m\u001b[38;5;28mself\u001b[39m\u001b[38;5;241m.\u001b[39mdbname,\n\u001b[1;32m     57\u001b[0m         demo\u001b[38;5;241m=\u001b[39m\u001b[38;5;28mself\u001b[39m\u001b[38;5;241m.\u001b[39mdemo_data,\n\u001b[1;32m     58\u001b[0m         lang\u001b[38;5;241m=\u001b[39m\u001b[38;5;28mself\u001b[39m\u001b[38;5;241m.\u001b[39mlang,\n\u001b[1;32m     59\u001b[0m         user_password\u001b[38;5;241m=\u001b[39m\u001b[38;5;28mself\u001b[39m\u001b[38;5;241m.\u001b[39madmin_user_pw\n\u001b[1;32m     60\u001b[0m     )\n\u001b[1;32m     62\u001b[0m     _logger\u001b[38;5;241m.\u001b[39minfo(\u001b[38;5;124mu\u001b[39m\u001b[38;5;124m'\u001b[39m\u001b[38;5;124m--> Done.\u001b[39m\u001b[38;5;124m'\u001b[39m)\n\u001b[1;32m     63\u001b[0m     \u001b[38;5;28;01mreturn\u001b[39;00m \u001b[38;5;28;01mTrue\u001b[39;00m\n",
      "File \u001b[0;32m/opt/anaconda/lib/python3.12/site-packages/erppeek.py:755\u001b[0m, in \u001b[0;36mClient.create_database\u001b[0;34m(self, passwd, database, demo, lang, user_password, login, country_code)\u001b[0m\n\u001b[1;32m    753\u001b[0m         \u001b[38;5;28;01mreturn\u001b[39;00m {\u001b[38;5;124m'\u001b[39m\u001b[38;5;124mid\u001b[39m\u001b[38;5;124m'\u001b[39m: thread_id, \u001b[38;5;124m'\u001b[39m\u001b[38;5;124mprogress\u001b[39m\u001b[38;5;124m'\u001b[39m: progress}\n\u001b[1;32m    754\u001b[0m \u001b[38;5;28;01melif\u001b[39;00m \u001b[38;5;129;01mnot\u001b[39;00m customize:\n\u001b[0;32m--> 755\u001b[0m     \u001b[38;5;28mself\u001b[39m\u001b[38;5;241m.\u001b[39mdb\u001b[38;5;241m.\u001b[39mcreate_database(passwd, database, demo, lang,\n\u001b[1;32m    756\u001b[0m                             user_password)\n\u001b[1;32m    757\u001b[0m \u001b[38;5;28;01melse\u001b[39;00m:\n\u001b[1;32m    758\u001b[0m     \u001b[38;5;28mself\u001b[39m\u001b[38;5;241m.\u001b[39mdb\u001b[38;5;241m.\u001b[39mcreate_database(passwd, database, demo, lang,\n\u001b[1;32m    759\u001b[0m                             user_password, login, country_code)\n",
      "File \u001b[0;32m/opt/anaconda/lib/python3.12/site-packages/erppeek.py:462\u001b[0m, in \u001b[0;36mService.__getattr__.<locals>.<lambda>\u001b[0;34m(s, *args)\u001b[0m\n\u001b[1;32m    460\u001b[0m         \u001b[38;5;28;01mreturn\u001b[39;00m res\n\u001b[1;32m    461\u001b[0m \u001b[38;5;28;01melse\u001b[39;00m:\n\u001b[0;32m--> 462\u001b[0m     wrapper \u001b[38;5;241m=\u001b[39m \u001b[38;5;28;01mlambda\u001b[39;00m s, \u001b[38;5;241m*\u001b[39margs: s\u001b[38;5;241m.\u001b[39m_dispatch(name, args)\n\u001b[1;32m    463\u001b[0m \u001b[38;5;28;01mreturn\u001b[39;00m _memoize(\u001b[38;5;28mself\u001b[39m, name, wrapper)\n",
      "File \u001b[0;32m/opt/anaconda/lib/python3.12/xmlrpc/client.py:1461\u001b[0m, in \u001b[0;36mServerProxy.__request\u001b[0;34m(self, methodname, params)\u001b[0m\n\u001b[1;32m   1455\u001b[0m \u001b[38;5;28;01mdef\u001b[39;00m \u001b[38;5;21m__request\u001b[39m(\u001b[38;5;28mself\u001b[39m, methodname, params):\n\u001b[1;32m   1456\u001b[0m     \u001b[38;5;66;03m# call a method on the remote server\u001b[39;00m\n\u001b[1;32m   1458\u001b[0m     request \u001b[38;5;241m=\u001b[39m dumps(params, methodname, encoding\u001b[38;5;241m=\u001b[39m\u001b[38;5;28mself\u001b[39m\u001b[38;5;241m.\u001b[39m__encoding,\n\u001b[1;32m   1459\u001b[0m                     allow_none\u001b[38;5;241m=\u001b[39m\u001b[38;5;28mself\u001b[39m\u001b[38;5;241m.\u001b[39m__allow_none)\u001b[38;5;241m.\u001b[39mencode(\u001b[38;5;28mself\u001b[39m\u001b[38;5;241m.\u001b[39m__encoding, \u001b[38;5;124m'\u001b[39m\u001b[38;5;124mxmlcharrefreplace\u001b[39m\u001b[38;5;124m'\u001b[39m)\n\u001b[0;32m-> 1461\u001b[0m     response \u001b[38;5;241m=\u001b[39m \u001b[38;5;28mself\u001b[39m\u001b[38;5;241m.\u001b[39m__transport\u001b[38;5;241m.\u001b[39mrequest(\n\u001b[1;32m   1462\u001b[0m         \u001b[38;5;28mself\u001b[39m\u001b[38;5;241m.\u001b[39m__host,\n\u001b[1;32m   1463\u001b[0m         \u001b[38;5;28mself\u001b[39m\u001b[38;5;241m.\u001b[39m__handler,\n\u001b[1;32m   1464\u001b[0m         request,\n\u001b[1;32m   1465\u001b[0m         verbose\u001b[38;5;241m=\u001b[39m\u001b[38;5;28mself\u001b[39m\u001b[38;5;241m.\u001b[39m__verbose\n\u001b[1;32m   1466\u001b[0m         )\n\u001b[1;32m   1468\u001b[0m     \u001b[38;5;28;01mif\u001b[39;00m \u001b[38;5;28mlen\u001b[39m(response) \u001b[38;5;241m==\u001b[39m \u001b[38;5;241m1\u001b[39m:\n\u001b[1;32m   1469\u001b[0m         response \u001b[38;5;241m=\u001b[39m response[\u001b[38;5;241m0\u001b[39m]\n",
      "File \u001b[0;32m/opt/anaconda/lib/python3.12/xmlrpc/client.py:1166\u001b[0m, in \u001b[0;36mTransport.request\u001b[0;34m(self, host, handler, request_body, verbose)\u001b[0m\n\u001b[1;32m   1164\u001b[0m \u001b[38;5;28;01mfor\u001b[39;00m i \u001b[38;5;129;01min\u001b[39;00m (\u001b[38;5;241m0\u001b[39m, \u001b[38;5;241m1\u001b[39m):\n\u001b[1;32m   1165\u001b[0m     \u001b[38;5;28;01mtry\u001b[39;00m:\n\u001b[0;32m-> 1166\u001b[0m         \u001b[38;5;28;01mreturn\u001b[39;00m \u001b[38;5;28mself\u001b[39m\u001b[38;5;241m.\u001b[39msingle_request(host, handler, request_body, verbose)\n\u001b[1;32m   1167\u001b[0m     \u001b[38;5;28;01mexcept\u001b[39;00m http\u001b[38;5;241m.\u001b[39mclient\u001b[38;5;241m.\u001b[39mRemoteDisconnected:\n\u001b[1;32m   1168\u001b[0m         \u001b[38;5;28;01mif\u001b[39;00m i:\n",
      "File \u001b[0;32m/opt/anaconda/lib/python3.12/xmlrpc/client.py:1196\u001b[0m, in \u001b[0;36mTransport.single_request\u001b[0;34m(self, host, handler, request_body, verbose)\u001b[0m\n\u001b[1;32m   1194\u001b[0m \u001b[38;5;28;01mif\u001b[39;00m resp\u001b[38;5;241m.\u001b[39mgetheader(\u001b[38;5;124m\"\u001b[39m\u001b[38;5;124mcontent-length\u001b[39m\u001b[38;5;124m\"\u001b[39m, \u001b[38;5;124m\"\u001b[39m\u001b[38;5;124m\"\u001b[39m):\n\u001b[1;32m   1195\u001b[0m     resp\u001b[38;5;241m.\u001b[39mread()\n\u001b[0;32m-> 1196\u001b[0m \u001b[38;5;28;01mraise\u001b[39;00m ProtocolError(\n\u001b[1;32m   1197\u001b[0m     host \u001b[38;5;241m+\u001b[39m handler,\n\u001b[1;32m   1198\u001b[0m     resp\u001b[38;5;241m.\u001b[39mstatus, resp\u001b[38;5;241m.\u001b[39mreason,\n\u001b[1;32m   1199\u001b[0m     \u001b[38;5;28mdict\u001b[39m(resp\u001b[38;5;241m.\u001b[39mgetheaders())\n\u001b[1;32m   1200\u001b[0m     )\n",
      "\u001b[0;31mProtocolError\u001b[0m: <ProtocolError for 192.168.25.212/xmlrpc/db: 403 Forbidden>"
     ]
    }
   ],
   "source": [
    "from clvhealth_jcafb import *\n",
    "\n",
    "clvhealth = CLVhealthJCAFB(server=server,\n",
    "                           admin_user_pw=user_pw,\n",
    "                           super_user_pw=master_pw,\n",
    "                           dbname=dbname\n",
    "                          )\n",
    "\n",
    "# _logger.info('clvhealth_jcafb.server: {0}'.format(clvhealth.server))\n",
    "# _logger.info('clvhealth_jcafb.dbname: {0}'.format(clvhealth.dbname))\n",
    "# _logger.info('clvhealth_jcafb.db.server: {0}'.format(clvhealth.db.server))\n",
    "# _logger.info('clvhealth_jcafb.db.dbname: {0}'.format(clvhealth.db.dbname))\n",
    "\n",
    "clvhealth.install()\n"
   ]
  },
  {
   "cell_type": "code",
   "execution_count": null,
   "id": "52b05058-0984-410f-b412-c03b522e8aa2",
   "metadata": {},
   "outputs": [],
   "source": []
  }
 ],
 "metadata": {
  "kernelspec": {
   "display_name": "Python 3 (ipykernel)",
   "language": "python",
   "name": "python3"
  },
  "language_info": {
   "codemirror_mode": {
    "name": "ipython",
    "version": 3
   },
   "file_extension": ".py",
   "mimetype": "text/x-python",
   "name": "python",
   "nbconvert_exporter": "python",
   "pygments_lexer": "ipython3",
   "version": "3.12.2"
  }
 },
 "nbformat": 4,
 "nbformat_minor": 5
}
