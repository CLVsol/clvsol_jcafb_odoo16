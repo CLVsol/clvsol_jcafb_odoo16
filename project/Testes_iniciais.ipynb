{
 "cells": [
  {
   "cell_type": "markdown",
   "id": "b936617a-ac2f-4300-a496-a2fdaa4f9b30",
   "metadata": {},
   "source": [
    "# SSH Port Forwarding \n",
    "\n",
    "<div class=\"alert alert-block alert-info\">\n",
    "<b>Info:</b> Os comandos abaixo não foram necessários.\n",
    "</div>\n",
    "\n",
    "* ssh -L 8069:192.168.25.212:8069 localhost:\n",
    "```console\n",
    "    (base) mint20@mint20:~$ ssh -L 8069:192.168.25.212:8069 localhost\n",
    "\n",
    "    The authenticity of host 'localhost (127.0.0.1)' can't be established.\n",
    "    ECDSA key fingerprint is SHA256:PhJlLRGB1s9Z7Dz+xPH1knqNuu6aq8sYM1DEnGRQUMM.\n",
    "    Are you sure you want to continue connecting (yes/no/[fingerprint])? yes\n",
    "    Warning: Permanently added 'localhost' (ECDSA) to the list of known hosts.\n",
    "    mint20@localhost's password:\n",
    "```\n",
    "\n",
    "* ssh -L 8069:192.168.25.212:8069 root@192.168.25.212\n",
    "```console\n",
    "    (base) mint20@mint20:~$ ssh -L 8069:192.168.25.212:8069 root@192.168.25.212\n",
    "\n",
    "    root@192.168.25.212's password:\n",
    "    Welcome to Tkl-odoo16-vm-18, TurnKey GNU/Linux 18.0 (Debian 12/Bookworm)\n",
    "\n",
    "      System information for Wed Nov 13 15:04:46 2024 - -03 (UTC-0300)\n",
    "\n",
    "        System load:  0.30               Memory usage:  18.7%\n",
    "        Processes:    207                Swap usage:    3.4%\n",
    "        Usage of /:   13.3% of 29.36GB   IP address for eth0: 192.168.25.212\n",
    "\n",
    "      TKLBAM (Backup and Migration):  NOT INITIALIZED\n",
    "\n",
    "        To initialize TKLBAM, run the \"tklbam-init\" command to link this\n",
    "        system to your TurnKey Hub account. For details see the man page or\n",
    "        go to:\n",
    "\n",
    "            https://www.turnkeylinux.org/tklbam\n",
    "\n",
    "\n",
    "        For Advanced commandline config run:    confconsole\n",
    "\n",
    "      For more info see: https://www.turnkeylinux.org/docs/confconsole\n",
    "\n",
    "    Linux tkl-odoo16-vm-18 6.1.0-26-amd64 #1 SMP PREEMPT_DYNAMIC Debian 6.1.112-1 (2024-09-30) x86_64\n",
    "    Last login: Wed Nov 13 10:34:58 2024 from 192.168.25.106\n",
    "    root@tkl-odoo16-vm-18 ~#\n",
    "```"
   ]
  },
  {
   "cell_type": "markdown",
   "id": "8b4d2452-75ea-44dd-a008-5c7335b08d10",
   "metadata": {},
   "source": [
    "# Testes Iniciais"
   ]
  },
  {
   "cell_type": "markdown",
   "id": "a006ccdc-b340-4ee6-9d68-abe995d9bffe",
   "metadata": {},
   "source": [
    "## Leitura das Credenciais"
   ]
  },
  {
   "cell_type": "code",
   "execution_count": 1,
   "id": "0bb38ac1-7726-4d1b-ba17-d5cc3561a395",
   "metadata": {},
   "outputs": [],
   "source": [
    "import pandas as pd\n",
    "\n",
    "hosts = pd.read_csv('data/host.csv', delimiter=';', index_col='name')\n",
    "def creds(index, col_name):\n",
    "    return hosts.at[index, col_name]\n",
    "\n",
    "# creds = lambda index, col_name : hosts.at[index, col_name]\n",
    "\n",
    "# print(hosts)"
   ]
  },
  {
   "cell_type": "markdown",
   "id": "937c7253-2bff-463e-80a8-fccac9377da7",
   "metadata": {},
   "source": [
    "## Parâmetros globais"
   ]
  },
  {
   "cell_type": "code",
   "execution_count": 2,
   "id": "205cc15a-1c82-41ef-b6e1-de152ae3f587",
   "metadata": {},
   "outputs": [],
   "source": [
    "import logging\n",
    "\n",
    "logging.basicConfig(level=logging.DEBUG)\n",
    "_logger = logging.getLogger(__name__)\n"
   ]
  },
  {
   "cell_type": "code",
   "execution_count": 3,
   "id": "d712969f-86fc-48be-a0e7-c409a4f8fbc8",
   "metadata": {},
   "outputs": [],
   "source": [
    "# import ssl\n",
    "\n",
    "# ssl._create_default_https_context = ssl._create_unverified_context\n",
    "# ctx = ssl.create_default_context()\n",
    "# ctx.check_hostname = False\n",
    "# ctx.verify_mode = ssl.CERT_NONE\n"
   ]
  },
  {
   "cell_type": "code",
   "execution_count": 4,
   "id": "1fd470f1-6af0-451d-b637-7bb13870bf04",
   "metadata": {},
   "outputs": [
    {
     "name": "stderr",
     "output_type": "stream",
     "text": [
      "INFO:__main__:host_name: \"tkl-odoo16-vm-18\"\n"
     ]
    }
   ],
   "source": [
    "host_name = 'tkl-odoo16-vm-18'\n",
    "# host_name = 'tkl-odoo15-jcafb25-vm'\n",
    "# host_name = 'clvhealth_jcafb_2025-aws-tst'\n",
    "\n",
    "server = creds(host_name, 'server')\n",
    "master_pw = creds(host_name, 'master_pw')\n",
    "dbname = creds(host_name, 'dbname')\n",
    "user = creds(host_name, 'user')\n",
    "user_pw = creds(host_name, 'user_pw')\n",
    "user_apikey = creds(host_name, 'user_apikey')\n",
    "\n",
    "_logger.info('host_name: \"{0}\"'.format(host_name))\n",
    "\n",
    "# print(server_url)\n"
   ]
  },
  {
   "cell_type": "markdown",
   "id": "8e3622bc-b5b6-4f1b-98d6-d6ca7a2d49ac",
   "metadata": {},
   "source": [
    "## Teste de conexão à Base de dados"
   ]
  },
  {
   "cell_type": "code",
   "execution_count": 5,
   "id": "e9918e0d-4915-44f1-a069-f5cc067b0357",
   "metadata": {},
   "outputs": [
    {
     "name": "stderr",
     "output_type": "stream",
     "text": [
      "INFO:__main__:sock_common.version(): \"{'server_version': '16.0', 'server_version_info': [16, 0, 0, 'final', 0, ''], 'server_serie': '16.0', 'protocol_version': 1}\"\n",
      "INFO:__main__:Databases found: []\n"
     ]
    }
   ],
   "source": [
    "import erppeek\n",
    "import xmlrpc.client as xmlrpclib\n",
    "\n",
    "url = server\n",
    "sock_common = xmlrpclib.ServerProxy('{}/xmlrpc/2/common'.format(url))\n",
    "_logger.info('sock_common.version(): \"{0}\"'.format(sock_common.version()))\n",
    "\n",
    "client = erppeek.Client(server=server)\n",
    "_logger.info('Databases found: {0}'.format(client.db.list()))\n"
   ]
  },
  {
   "cell_type": "markdown",
   "id": "b1f76cea-6abe-4e7e-a5f7-1401c1bb2836",
   "metadata": {},
   "source": [
    "## Teste de 'clvsol_odoo_client2.host.host_login'"
   ]
  },
  {
   "cell_type": "code",
   "execution_count": 6,
   "id": "c06ee0c7-9f8f-44d0-b2c8-11abf66c8b71",
   "metadata": {},
   "outputs": [
    {
     "name": "stderr",
     "output_type": "stream",
     "text": [
      "INFO:clvsol_odoo_client2.host:--> host_login http://192.168.25.212:8069 clvhealth_jcafb_16\n",
      "INFO:clvsol_odoo_client2.host:--> except Fault\n",
      "INFO:clvsol_odoo_client2.host:--> [22] Database does not exist.  \n"
     ]
    },
    {
     "data": {
      "text/plain": [
       "(False, False, '[22] Database does not exist.')"
      ]
     },
     "execution_count": 6,
     "metadata": {},
     "output_type": "execute_result"
    }
   ],
   "source": [
    "from clvsol_odoo_client2 import host\n",
    "\n",
    "host.host_login(server, dbname, user, user_pw)\n"
   ]
  },
  {
   "cell_type": "code",
   "execution_count": 7,
   "id": "b963cd9f-393d-4ede-8358-da89b663ddc2",
   "metadata": {},
   "outputs": [
    {
     "name": "stderr",
     "output_type": "stream",
     "text": [
      "INFO:clvsol_odoo_client2.host:--> host_login http://192.168.25.212:8069x clvhealth_jcafb_16\n",
      "INFO:clvsol_odoo_client2.host:--> [11] Server is not responding.  \n"
     ]
    },
    {
     "data": {
      "text/plain": [
       "(False, False, '[11] Server is not responding.')"
      ]
     },
     "execution_count": 7,
     "metadata": {},
     "output_type": "execute_result"
    }
   ],
   "source": [
    "host.host_login(server + 'x', dbname, user, user_pw)\n"
   ]
  },
  {
   "cell_type": "code",
   "execution_count": 8,
   "id": "1f5fc0b3-6771-416d-9380-330733e3f464",
   "metadata": {},
   "outputs": [
    {
     "name": "stderr",
     "output_type": "stream",
     "text": [
      "INFO:clvsol_odoo_client2.host:--> host_login http://192.168.25.212:8069 clvhealth_jcafb_16x\n",
      "INFO:clvsol_odoo_client2.host:--> except Fault\n",
      "INFO:clvsol_odoo_client2.host:--> [22] Database does not exist.  \n"
     ]
    },
    {
     "data": {
      "text/plain": [
       "(False, False, '[22] Database does not exist.')"
      ]
     },
     "execution_count": 8,
     "metadata": {},
     "output_type": "execute_result"
    }
   ],
   "source": [
    "host.host_login(server, dbname + 'x', user, user_pw)"
   ]
  },
  {
   "cell_type": "code",
   "execution_count": 9,
   "id": "fd492492-f8da-4dd0-8684-4a0459dab6dd",
   "metadata": {},
   "outputs": [
    {
     "name": "stderr",
     "output_type": "stream",
     "text": [
      "INFO:clvsol_odoo_client2.host:--> host_login http://192.168.25.212:8069 clvhealth_jcafb_16\n",
      "INFO:clvsol_odoo_client2.host:--> except Fault\n",
      "INFO:clvsol_odoo_client2.host:--> [22] Database does not exist.  \n"
     ]
    },
    {
     "data": {
      "text/plain": [
       "(False, False, '[22] Database does not exist.')"
      ]
     },
     "execution_count": 9,
     "metadata": {},
     "output_type": "execute_result"
    }
   ],
   "source": [
    "host.host_login(server, dbname, user + 'x', user_pw)\n"
   ]
  },
  {
   "cell_type": "code",
   "execution_count": 10,
   "id": "b589cafe-267b-4d0e-8c4d-d5d86bd387c6",
   "metadata": {},
   "outputs": [
    {
     "name": "stderr",
     "output_type": "stream",
     "text": [
      "INFO:clvsol_odoo_client2.host:--> host_login http://192.168.25.212:8069 clvhealth_jcafb_16\n",
      "INFO:clvsol_odoo_client2.host:--> except Fault\n",
      "INFO:clvsol_odoo_client2.host:--> [22] Database does not exist.  \n"
     ]
    },
    {
     "data": {
      "text/plain": [
       "(False, False, '[22] Database does not exist.')"
      ]
     },
     "execution_count": 10,
     "metadata": {},
     "output_type": "execute_result"
    }
   ],
   "source": [
    "host.host_login(server, dbname, user, user_pw + 'x')"
   ]
  },
  {
   "cell_type": "markdown",
   "id": "79f7e5e0-19ed-4ea4-a8ce-9d4652f6f43e",
   "metadata": {},
   "source": [
    "## Teste de 'CLVhealthJCAFB'"
   ]
  },
  {
   "cell_type": "code",
   "execution_count": 11,
   "id": "c189d854-dfaa-462a-a2f9-2143510027cf",
   "metadata": {},
   "outputs": [
    {
     "name": "stderr",
     "output_type": "stream",
     "text": [
      "INFO:clvsol_odoo_client2.db:--> sock_common.version(): \"{'server_version': '16.0', 'server_version_info': [16, 0, 0, 'final', 0, ''], 'server_serie': '16.0', 'protocol_version': 1}\"\n",
      "INFO:clvsol_odoo_client2.db:--> Databases found: \"[]\"\n",
      "INFO:clvsol_odoo_client2.db:--> Creating database \"clvhealth_jcafb_16\"...\n"
     ]
    },
    {
     "name": "stdout",
     "output_type": "stream",
     "text": [
      "--> Executing install()...\n",
      "\n",
      "--> create_database()\n"
     ]
    },
    {
     "name": "stderr",
     "output_type": "stream",
     "text": [
      "INFO:clvsol_odoo_client2.db:--> Done.\n"
     ]
    },
    {
     "name": "stdout",
     "output_type": "stream",
     "text": [
      "\n",
      "--> newDB:  True\n",
      "\n",
      "--> my_company_setup()\n",
      "Configuring My Company...\n",
      "Done.\n",
      "\n",
      "--> Administrator()\n",
      "Configuring user \"Administrator\"...\n",
      "Executing user_groups_setup...\n",
      "Done (user_groups_setup).\n",
      "Done.\n",
      "\n",
      "--> data_administrator_user_setup()\n",
      "Configuring user \"Data Administrator\"...\n",
      "Done.\n",
      "\n",
      "--> mail\n",
      "Module Name: \"mail\" (Update: False)\n",
      "Installing module \"mail\"...\n",
      "1 module(s) selected\n",
      "15 module(s) to process:\n",
      "  to install\tmail\n",
      "  to install\tauth_signup\n",
      "  to install\tauth_totp_mail\n",
      "  to install\tbase_install_request\n",
      "  to install\tbase_setup\n",
      "  to install\tgoogle_gmail\n",
      "  to install\tiap\n",
      "  to install\tiap_mail\n",
      "  to install\tmail_bot\n",
      "  to install\tpartner_autocomplete\n",
      "  to install\tprivacy_lookup\n",
      "  to install\tsms\n",
      "  to install\tsnailmail\n",
      "  to install\tweb_unsplash\n",
      "  to install\tphone_validation\n",
      "Done.\n",
      "\n",
      "--> hr\n",
      "Module Name: \"hr\" (Update: False)\n",
      "Skipping module \"hr\"...\n",
      "Done.\n",
      "\n",
      "--> contacts\n",
      "Module Name: \"contacts\" (Update: False)\n",
      "Skipping module \"contacts\"...\n",
      "Done.\n",
      "\n",
      "--> base_address_extended\n",
      "Module Name: \"base_address_extended\" (Update: False)\n",
      "Installing module \"base_address_extended\"...\n",
      "1 module(s) selected\n",
      "1 module(s) to process:\n",
      "  to install\tbase_address_extended\n",
      "Done.\n",
      "\n",
      "--> survey\n",
      "Module Name: \"survey\" (Update: False)\n",
      "Skipping module \"survey\"...\n",
      "Done.\n",
      "\n",
      "--> l10n_br_base\n",
      "Module Name: \"l10n_br_base\" (Update: False)\n",
      "Installing module \"l10n_br_base\"...\n",
      "1 module(s) selected\n",
      "1 module(s) to process:\n",
      "  to install\tl10n_br_base\n",
      "Done.\n",
      "\n",
      "--> l10n_br_zip\n",
      "Module Name: \"l10n_br_zip\" (Update: False)\n",
      "Installing module \"l10n_br_zip\"...\n",
      "1 module(s) selected\n",
      "1 module(s) to process:\n",
      "  to install\tl10n_br_zip\n",
      "Done.\n",
      "\n",
      "--> clvhealth.install()\n",
      "--> Execution time: 0:01:41.676308 \n",
      "\n"
     ]
    }
   ],
   "source": [
    "from time import time\n",
    "from datetime import timedelta\n",
    "from clvhealth_jcafb import *\n",
    "\n",
    "modules_to_upgrade_list = []\n",
    "# modules_to_upgrade_list = ['survey', 'l10n_br_base', 'l10n_br_zip']\n",
    "\n",
    "def secondsToStr(t):\n",
    "    return str(timedelta(seconds=t))\n",
    "\n",
    "start = time()\n",
    "\n",
    "clvhealth = CLVhealthJCAFB(server=server,\n",
    "                           admin_user_pw=user_pw,\n",
    "                           super_user_pw=master_pw,\n",
    "                           dbname=dbname,\n",
    "                           modules_to_upgrade=modules_to_upgrade_list\n",
    "                          )\n",
    "\n",
    "# _logger.info('clvhealth_jcafb.server: {0}'.format(clvhealth.server))\n",
    "# _logger.info('clvhealth_jcafb.dbname: {0}'.format(clvhealth.dbname))\n",
    "# _logger.info('clvhealth_jcafb.db.server: {0}'.format(clvhealth.db.server))\n",
    "# _logger.info('clvhealth_jcafb.db.dbname: {0}'.format(clvhealth.db.dbname))\n",
    "\n",
    "print('--> Executing install()...\\n')\n",
    "\n",
    "clvhealth.install()\n",
    "\n",
    "print('\\n--> clvhealth.install()')\n",
    "print('--> Execution time:', secondsToStr(time() - start), '\\n')\n"
   ]
  },
  {
   "cell_type": "code",
   "execution_count": null,
   "id": "9dd839cd-bcb2-4308-9a99-6056325fdbb9",
   "metadata": {},
   "outputs": [],
   "source": []
  }
 ],
 "metadata": {
  "kernelspec": {
   "display_name": "Python 3 (ipykernel)",
   "language": "python",
   "name": "python3"
  },
  "language_info": {
   "codemirror_mode": {
    "name": "ipython",
    "version": 3
   },
   "file_extension": ".py",
   "mimetype": "text/x-python",
   "name": "python",
   "nbconvert_exporter": "python",
   "pygments_lexer": "ipython3",
   "version": "3.12.2"
  }
 },
 "nbformat": 4,
 "nbformat_minor": 5
}
