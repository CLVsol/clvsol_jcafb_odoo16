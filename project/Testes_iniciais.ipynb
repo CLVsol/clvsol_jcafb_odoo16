{
 "cells": [
  {
   "cell_type": "markdown",
   "id": "8b4d2452-75ea-44dd-a008-5c7335b08d10",
   "metadata": {},
   "source": [
    "# Testes Iniciais"
   ]
  },
  {
   "cell_type": "markdown",
   "id": "a006ccdc-b340-4ee6-9d68-abe995d9bffe",
   "metadata": {},
   "source": [
    "## Leitura das Credenciais"
   ]
  },
  {
   "cell_type": "code",
   "execution_count": 1,
   "id": "0bb38ac1-7726-4d1b-ba17-d5cc3561a395",
   "metadata": {},
   "outputs": [],
   "source": [
    "import pandas as pd\n",
    "\n",
    "hosts = pd.read_csv('data/host.csv', delimiter=';', index_col='name')\n",
    "\n",
    "creds = lambda index, col_name : hosts.at[index, col_name]\n",
    "\n",
    "# print(hosts)"
   ]
  },
  {
   "cell_type": "markdown",
   "id": "937c7253-2bff-463e-80a8-fccac9377da7",
   "metadata": {},
   "source": [
    "## Parâmetros globais"
   ]
  },
  {
   "cell_type": "code",
   "execution_count": 2,
   "id": "205cc15a-1c82-41ef-b6e1-de152ae3f587",
   "metadata": {},
   "outputs": [],
   "source": [
    "import logging\n",
    "\n",
    "logging.basicConfig(level=logging.DEBUG)\n",
    "_logger = logging.getLogger(__name__)\n"
   ]
  },
  {
   "cell_type": "code",
   "execution_count": 3,
   "id": "d712969f-86fc-48be-a0e7-c409a4f8fbc8",
   "metadata": {},
   "outputs": [],
   "source": [
    "import ssl\n",
    "\n",
    "ssl._create_default_https_context = ssl._create_unverified_context\n",
    "ctx = ssl.create_default_context()\n",
    "ctx.check_hostname = False\n",
    "ctx.verify_mode = ssl.CERT_NONE\n"
   ]
  },
  {
   "cell_type": "code",
   "execution_count": 4,
   "id": "1fd470f1-6af0-451d-b637-7bb13870bf04",
   "metadata": {},
   "outputs": [
    {
     "name": "stderr",
     "output_type": "stream",
     "text": [
      "INFO:__main__:host_name: \"tkl-odoo16-vm-18\"\n"
     ]
    }
   ],
   "source": [
    "host_name = 'tkl-odoo16-vm-18'\n",
    "\n",
    "server = creds(host_name, 'server')\n",
    "master_pw = creds(host_name, 'master_pw')\n",
    "dbname = creds(host_name, 'dbname')\n",
    "user = creds(host_name, 'user')\n",
    "user_pw = creds(host_name, 'user_pw')\n",
    "user_apikey = creds(host_name, 'user_apikey')\n",
    "\n",
    "_logger.info('host_name: \"{0}\"'.format(host_name))\n",
    "\n",
    "# print(server_url)\n"
   ]
  },
  {
   "cell_type": "markdown",
   "id": "8e3622bc-b5b6-4f1b-98d6-d6ca7a2d49ac",
   "metadata": {},
   "source": [
    "## Teste de conexão à Base de dados"
   ]
  },
  {
   "cell_type": "code",
   "execution_count": 5,
   "id": "e9918e0d-4915-44f1-a069-f5cc067b0357",
   "metadata": {},
   "outputs": [
    {
     "name": "stderr",
     "output_type": "stream",
     "text": [
      "INFO:__main__:sock_common.version(): \"{'server_version': '16.0', 'server_version_info': [16, 0, 0, 'final', 0, ''], 'server_serie': '16.0', 'protocol_version': 1}\"\n",
      "INFO:__main__:Databases found: ['clvhealth_jcafb_16']\n"
     ]
    }
   ],
   "source": [
    "import erppeek\n",
    "import xmlrpc.client as xmlrpclib\n",
    "\n",
    "url = server\n",
    "sock_common = xmlrpclib.ServerProxy('{}/xmlrpc/2/common'.format(url))\n",
    "_logger.info('sock_common.version(): \"{0}\"'.format(sock_common.version()))\n",
    "\n",
    "client = erppeek.Client(server=server)\n",
    "_logger.info('Databases found: {0}'.format(client.db.list()))\n"
   ]
  },
  {
   "cell_type": "markdown",
   "id": "b1f76cea-6abe-4e7e-a5f7-1401c1bb2836",
   "metadata": {},
   "source": [
    "## Teste de 'clvsol_odoo_client2.host.host_login'"
   ]
  },
  {
   "cell_type": "code",
   "execution_count": 6,
   "id": "c06ee0c7-9f8f-44d0-b2c8-11abf66c8b71",
   "metadata": {},
   "outputs": [
    {
     "name": "stderr",
     "output_type": "stream",
     "text": [
      "INFO:clvsol_odoo_client2.host:--> host_login https://192.168.25.212 clvhealth_jcafb_16\n",
      "INFO:clvsol_odoo_client2.host:--> uid 2\n",
      "INFO:clvsol_odoo_client2.host:--> sock <ServerProxy for 192.168.25.212/xmlrpc/2/object>\n",
      "INFO:clvsol_odoo_client2.host:--> [01] Login Ok. Administrator \n",
      "INFO:clvsol_odoo_client2.host:--> {'id': 2, 'name': 'Administrator', 'parent_id': False}\n"
     ]
    },
    {
     "data": {
      "text/plain": [
       "(2, <ServerProxy for 192.168.25.212/xmlrpc/2/object>, '[01] Login Ok.')"
      ]
     },
     "execution_count": 6,
     "metadata": {},
     "output_type": "execute_result"
    }
   ],
   "source": [
    "from clvsol_odoo_client2 import host\n",
    "\n",
    "host.host_login(server, dbname, user, user_pw)\n"
   ]
  },
  {
   "cell_type": "code",
   "execution_count": 7,
   "id": "b963cd9f-393d-4ede-8358-da89b663ddc2",
   "metadata": {},
   "outputs": [
    {
     "name": "stderr",
     "output_type": "stream",
     "text": [
      "INFO:clvsol_odoo_client2.host:--> host_login https://192.168.25.212x clvhealth_jcafb_16\n",
      "INFO:clvsol_odoo_client2.host:--> [11] Server is not responding.  \n"
     ]
    },
    {
     "data": {
      "text/plain": [
       "(False, False, '[11] Server is not responding.')"
      ]
     },
     "execution_count": 7,
     "metadata": {},
     "output_type": "execute_result"
    }
   ],
   "source": [
    "host.host_login(server + 'x', dbname, user, user_pw)\n"
   ]
  },
  {
   "cell_type": "code",
   "execution_count": 8,
   "id": "1f5fc0b3-6771-416d-9380-330733e3f464",
   "metadata": {},
   "outputs": [
    {
     "name": "stderr",
     "output_type": "stream",
     "text": [
      "INFO:clvsol_odoo_client2.host:--> host_login https://192.168.25.212 clvhealth_jcafb_16x\n",
      "INFO:clvsol_odoo_client2.host:--> except Fault\n",
      "INFO:clvsol_odoo_client2.host:--> [22] Database does not exist.  \n"
     ]
    },
    {
     "data": {
      "text/plain": [
       "(False, False, '[22] Database does not exist.')"
      ]
     },
     "execution_count": 8,
     "metadata": {},
     "output_type": "execute_result"
    }
   ],
   "source": [
    "host.host_login(server, dbname + 'x', user, user_pw)"
   ]
  },
  {
   "cell_type": "code",
   "execution_count": 9,
   "id": "fd492492-f8da-4dd0-8684-4a0459dab6dd",
   "metadata": {},
   "outputs": [
    {
     "name": "stderr",
     "output_type": "stream",
     "text": [
      "INFO:clvsol_odoo_client2.host:--> host_login https://192.168.25.212 clvhealth_jcafb_16\n",
      "INFO:clvsol_odoo_client2.host:--> uid False\n",
      "INFO:clvsol_odoo_client2.host:--> sock <ServerProxy for 192.168.25.212/xmlrpc/2/object>\n",
      "INFO:clvsol_odoo_client2.host:--> [21] Invalid Login/Pasword.  \n"
     ]
    },
    {
     "data": {
      "text/plain": [
       "(False,\n",
       " <ServerProxy for 192.168.25.212/xmlrpc/2/object>,\n",
       " '[21] Invalid Login/Pasword.')"
      ]
     },
     "execution_count": 9,
     "metadata": {},
     "output_type": "execute_result"
    }
   ],
   "source": [
    "host.host_login(server, dbname, user + 'x', user_pw)\n"
   ]
  },
  {
   "cell_type": "code",
   "execution_count": 10,
   "id": "b589cafe-267b-4d0e-8c4d-d5d86bd387c6",
   "metadata": {},
   "outputs": [
    {
     "name": "stderr",
     "output_type": "stream",
     "text": [
      "INFO:clvsol_odoo_client2.host:--> host_login https://192.168.25.212 clvhealth_jcafb_16\n",
      "INFO:clvsol_odoo_client2.host:--> uid False\n",
      "INFO:clvsol_odoo_client2.host:--> sock <ServerProxy for 192.168.25.212/xmlrpc/2/object>\n",
      "INFO:clvsol_odoo_client2.host:--> [21] Invalid Login/Pasword.  \n"
     ]
    },
    {
     "data": {
      "text/plain": [
       "(False,\n",
       " <ServerProxy for 192.168.25.212/xmlrpc/2/object>,\n",
       " '[21] Invalid Login/Pasword.')"
      ]
     },
     "execution_count": 10,
     "metadata": {},
     "output_type": "execute_result"
    }
   ],
   "source": [
    "host.host_login(server, dbname, user, user_pw + 'x')"
   ]
  },
  {
   "cell_type": "markdown",
   "id": "79f7e5e0-19ed-4ea4-a8ce-9d4652f6f43e",
   "metadata": {},
   "source": [
    "## Teste de 'CLVhealthJCAFB'"
   ]
  },
  {
   "cell_type": "code",
   "execution_count": 15,
   "id": "c189d854-dfaa-462a-a2f9-2143510027cf",
   "metadata": {},
   "outputs": [
    {
     "name": "stderr",
     "output_type": "stream",
     "text": [
      "INFO:clvsol_odoo_client2.db:--> sock_common.version(): \"{'server_version': '16.0', 'server_version_info': [16, 0, 0, 'final', 0, ''], 'server_serie': '16.0', 'protocol_version': 1}\"\n",
      "INFO:clvsol_odoo_client2.db:--> Databases found: \"['clvhealth_jcafb_16', 'teste_odoo']\"\n",
      "INFO:clvsol_odoo_client2.db:--> Database \"teste_odoo\" already exists.\n",
      "INFO:clvsol_odoo_client2.db:--> Done.\n",
      "INFO:clvhealth_jcafb:--> newDB: False\n"
     ]
    }
   ],
   "source": [
    "from clvhealth_jcafb import *\n",
    "\n",
    "clvhealth = CLVhealthJCAFB(server=server,\n",
    "                           admin_user_pw=user_pw,\n",
    "                           super_user_pw=master_pw,\n",
    "                           dbname='teste_odoo'\n",
    "                          )\n",
    "\n",
    "# _logger.info('clvhealth_jcafb.server: {0}'.format(clvhealth.server))\n",
    "# _logger.info('clvhealth_jcafb.dbname: {0}'.format(clvhealth.dbname))\n",
    "# _logger.info('clvhealth_jcafb.db.server: {0}'.format(clvhealth.db.server))\n",
    "# _logger.info('clvhealth_jcafb.db.dbname: {0}'.format(clvhealth.db.dbname))\n",
    "\n",
    "clvhealth.install()\n"
   ]
  },
  {
   "cell_type": "code",
   "execution_count": 12,
   "id": "0538334b-6c4b-4437-8046-aca6b2e5c09f",
   "metadata": {},
   "outputs": [],
   "source": [
    "# from clvsol_odoo_client2.db import *\n",
    "# import create_db\n",
    "\n",
    "# clvhealth_jcafb = create_db.CLVhealthJCAFB(\n",
    "#     server=server_url,\n",
    "#     # super_user_pw=cli.super_user_pw,\n",
    "#     dbname=db_name,\n",
    "#     admin_user_pw=password,\n",
    "#     # demo_user_pw='demo',\n",
    "#     # data_admin_user_pw=cli.data_admin_user_pw,\n",
    "#     demo_data=False,\n",
    "#     upgrade_all=False,\n",
    "#     modules_to_upgrade=[],\n",
    "#     lang='pt_BR',\n",
    "#     tz='America/Sao_Paulo'\n",
    "# )\n",
    "\n",
    "# db = DB(\n",
    "#     server=server_url,\n",
    "#     super_user_pw=master_pw,\n",
    "#     admin_user_pw=password,\n",
    "#     # data_admin_user_pw=cli.data_admin_user_pw,\n",
    "#     dbname=db_name,\n",
    "#     demo_data=False,\n",
    "#     lang='pt_BR',\n",
    "#     tz='America/Sao_Paulo'\n",
    "# )\n",
    "\n",
    "# print('--> Executing create_db.py...\\n')\n",
    "\n",
    "# print('--> Executing create_db()...\\n')\n",
    "# clvhealth_jcafb.create_db()\n"
   ]
  },
  {
   "cell_type": "code",
   "execution_count": null,
   "id": "52b05058-0984-410f-b412-c03b522e8aa2",
   "metadata": {},
   "outputs": [],
   "source": []
  }
 ],
 "metadata": {
  "kernelspec": {
   "display_name": "Python 3 (ipykernel)",
   "language": "python",
   "name": "python3"
  },
  "language_info": {
   "codemirror_mode": {
    "name": "ipython",
    "version": 3
   },
   "file_extension": ".py",
   "mimetype": "text/x-python",
   "name": "python",
   "nbconvert_exporter": "python",
   "pygments_lexer": "ipython3",
   "version": "3.12.2"
  }
 },
 "nbformat": 4,
 "nbformat_minor": 5
}
